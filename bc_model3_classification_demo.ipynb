{
  "nbformat": 4,
  "nbformat_minor": 0,
  "metadata": {
    "colab": {
      "name": "bc_model3_classification_demo.ipynb",
      "provenance": []
    },
    "kernelspec": {
      "name": "python3",
      "display_name": "Python 3"
    }
  },
  "cells": [
    {
      "cell_type": "code",
      "metadata": {
        "id": "69bJjeF02zOm"
      },
      "source": [
        "!pip install simpletransformers\n",
        "\n",
        "import numpy as np\n",
        "import pandas as pd\n",
        "\n",
        "import torch\n",
        "import torch.nn as nn\n",
        "\n",
        "from simpletransformers.ner import NERModel\n",
        "from simpletransformers.classification import ClassificationModel"
      ],
      "execution_count": null,
      "outputs": []
    },
    {
      "cell_type": "code",
      "metadata": {
        "id": "eTX8VBF32Ew6"
      },
      "source": [
        "from google.colab import drive\n",
        "drive.mount(\"/content/drive\")\n",
        "cols = [\"text\",\"label\"]\n",
        "pod_demo = pd.read_csv(\n",
        "    \"/content/drive/MyDrive/pod_demo.csv\",\n",
        "    header=0,\n",
        "    engine=\"python\",\n",
        "    encoding=\"UTF-8\"\n",
        ")"
      ],
      "execution_count": null,
      "outputs": []
    },
    {
      "cell_type": "code",
      "metadata": {
        "id": "YYS8DPvB6wfZ"
      },
      "source": [
        "device = torch.device(\"cuda\")"
      ],
      "execution_count": 14,
      "outputs": []
    },
    {
      "cell_type": "code",
      "metadata": {
        "id": "yUgFDOiY3MUF"
      },
      "source": [
        "#Loading model and predicting the utterances\n",
        "bc = torch.load('/content/drive/MyDrive/bc_dk_model3')\n",
        "predictions, raw_outputs = bc.predict(pod_demo.Transcription)\n",
        "pod_demo[\"backchannels\"] = predictions\n"
      ],
      "execution_count": null,
      "outputs": []
    },
    {
      "cell_type": "code",
      "metadata": {
        "id": "Mhxo0ORD4Tfc"
      },
      "source": [
        "pod_demo.head(10)"
      ],
      "execution_count": null,
      "outputs": []
    }
  ]
}